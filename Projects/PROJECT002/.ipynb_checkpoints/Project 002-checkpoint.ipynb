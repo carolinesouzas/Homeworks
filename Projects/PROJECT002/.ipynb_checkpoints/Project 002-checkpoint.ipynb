{
 "cells": [
  {
   "cell_type": "code",
   "execution_count": null,
   "id": "521dce6d",
   "metadata": {},
   "outputs": [],
   "source": [
    "import pandas as pd\n",
    "df = pd.read_excel(\"f_frota_por_uf_municipio_ano_fab_mod_maio_2021 (1).xlsx\")"
   ]
  },
  {
   "cell_type": "code",
   "execution_count": null,
   "id": "70b2a1ae",
   "metadata": {},
   "outputs": [],
   "source": []
  },
  {
   "cell_type": "code",
   "execution_count": null,
   "id": "137a0a31",
   "metadata": {},
   "outputs": [],
   "source": [
    "df.head(10)"
   ]
  },
  {
   "cell_type": "code",
   "execution_count": null,
   "id": "7d2db8b3",
   "metadata": {},
   "outputs": [],
   "source": [
    "df.dtypes"
   ]
  },
  {
   "cell_type": "code",
   "execution_count": null,
   "id": "29ca2653",
   "metadata": {},
   "outputs": [],
   "source": [
    "df.columns"
   ]
  },
  {
   "cell_type": "code",
   "execution_count": null,
   "id": "4b180f9a",
   "metadata": {
    "scrolled": true
   },
   "outputs": [],
   "source": [
    "#transformar o tipo da coluna de objeto para numerico\n",
    "df['Ano Modelo'] = df['Ano Modelo'].astype(int)"
   ]
  },
  {
   "cell_type": "code",
   "execution_count": null,
   "id": "2553a0a1",
   "metadata": {},
   "outputs": [],
   "source": [
    "#renomear todas as colunas para tirar os espacos delas\n",
    "df.columns = [c.replace(' ', '_') for c in df.columns]\n",
    "\n",
    "df.columns"
   ]
  },
  {
   "cell_type": "code",
   "execution_count": null,
   "id": "b1f45211",
   "metadata": {},
   "outputs": [],
   "source": [
    "# pegar todos os 'Sem Informação'e retirar as linhas que estão assim\n",
    "#transformei em outro dataframe\n",
    "df_seminfo = df[df.Ano_Modelo == 'Sem Informação']"
   ]
  },
  {
   "cell_type": "code",
   "execution_count": null,
   "id": "40a6e870",
   "metadata": {},
   "outputs": [],
   "source": [
    "# ver o tamanho do dataframe\n",
    "df.shape"
   ]
  },
  {
   "cell_type": "code",
   "execution_count": null,
   "id": "c1ecd07b",
   "metadata": {},
   "outputs": [],
   "source": [
    "# ver o tamanho do dataframe df_seminfo\n",
    "df_seminfo.shape"
   ]
  },
  {
   "cell_type": "code",
   "execution_count": null,
   "id": "20118dec",
   "metadata": {},
   "outputs": [],
   "source": [
    "#retirar linhas do df principal que estão 'sem informação'no campo Ano_Modelo\n",
    "\n",
    "df = df.drop(df[df.Ano_Modelo == 'Não se Aplica'].index)"
   ]
  },
  {
   "cell_type": "code",
   "execution_count": null,
   "id": "41c43c77",
   "metadata": {},
   "outputs": [],
   "source": [
    "#transformar \"Ano_Modelo\" em interger\n",
    "df['Ano_Modelo'] = df['Ano_Modelo'].astype(int)\n"
   ]
  },
  {
   "cell_type": "code",
   "execution_count": null,
   "id": "21a6dffe",
   "metadata": {},
   "outputs": [],
   "source": [
    "df.shape"
   ]
  },
  {
   "cell_type": "code",
   "execution_count": null,
   "id": "7e3d1e53",
   "metadata": {},
   "outputs": [],
   "source": [
    "#calcular idade de cada carro e criar uma coluna chamada idade e checar se criou a coluna mesmo\n",
    "df['Idade'] = 2021 - df['Ano_Fabricação_CRV'] \n",
    "df.head()"
   ]
  },
  {
   "cell_type": "code",
   "execution_count": null,
   "id": "59900bdf",
   "metadata": {},
   "outputs": [],
   "source": [
    "#criar histograma e ver a idade dos veículos no brasil -> ta meio estranho isso ainda\n",
    "df.Idade.hist()"
   ]
  },
  {
   "cell_type": "code",
   "execution_count": null,
   "id": "b400369f",
   "metadata": {},
   "outputs": [],
   "source": [
    "#somar o total de veículos no Brasil\n",
    "df.Qtd._Veículos.count()"
   ]
  },
  {
   "cell_type": "code",
   "execution_count": null,
   "id": "1f60cdd1",
   "metadata": {},
   "outputs": [],
   "source": [
    "#renomear a coluna 'Qtd._Veículos' -> o ponto ta atrapalhando o role todo\n",
    "df.columns = [c.replace('.', '_') for c in df.columns]\n",
    "df"
   ]
  },
  {
   "cell_type": "code",
   "execution_count": null,
   "id": "28eab939",
   "metadata": {},
   "outputs": [],
   "source": [
    "#somar o total de veículos no Brasil\n",
    "df.Qtd__Veículos.sum()"
   ]
  }
 ],
 "metadata": {
  "kernelspec": {
   "display_name": "Python 3",
   "language": "python",
   "name": "python3"
  },
  "language_info": {
   "codemirror_mode": {
    "name": "ipython",
    "version": 3
   },
   "file_extension": ".py",
   "mimetype": "text/x-python",
   "name": "python",
   "nbconvert_exporter": "python",
   "pygments_lexer": "ipython3",
   "version": "3.8.10"
  }
 },
 "nbformat": 4,
 "nbformat_minor": 5
}
